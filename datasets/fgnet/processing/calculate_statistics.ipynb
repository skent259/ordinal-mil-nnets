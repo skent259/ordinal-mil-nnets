{
 "cells": [
  {
   "cell_type": "code",
   "execution_count": 1,
   "metadata": {},
   "outputs": [],
   "source": [
    "import ast\n",
    "import numpy as np\n",
    "import pandas as pd\n"
   ]
  },
  {
   "cell_type": "code",
   "execution_count": 2,
   "metadata": {},
   "outputs": [
    {
     "data": {
      "text/plain": [
       "'/Users/spkent/Documents/_Github/ordinal-mil-nnets/datasets/fgnet/processing'"
      ]
     },
     "execution_count": 2,
     "metadata": {},
     "output_type": "execute_result"
    }
   ],
   "source": [
    "import os\n",
    "os.getcwd()"
   ]
  },
  {
   "cell_type": "markdown",
   "metadata": {},
   "source": [
    "## Statistics for original data set"
   ]
  },
  {
   "cell_type": "code",
   "execution_count": 3,
   "metadata": {},
   "outputs": [],
   "source": [
    "# Read in data\n",
    "train_df = pd.read_csv(\"../fgnet_train.csv\", dtype=str, index_col=0)\n",
    "valid_df = pd.read_csv(\"../fgnet_valid.csv\", dtype=str, index_col=0)\n",
    "test_df = pd.read_csv(\"../fgnet_test.csv\", dtype=str, index_col=0)\n"
   ]
  },
  {
   "cell_type": "code",
   "execution_count": 13,
   "metadata": {},
   "outputs": [
    {
     "data": {
      "text/plain": [
       "00-03    123\n",
       "04-11    237\n",
       "12-16    133\n",
       "17-24    149\n",
       "25-40    114\n",
       "41+       45\n",
       "Name: age_group, dtype: int64"
      ]
     },
     "execution_count": 13,
     "metadata": {},
     "output_type": "execute_result"
    }
   ],
   "source": [
    "train_df.age_group.value_counts().sort_index()\n"
   ]
  },
  {
   "cell_type": "code",
   "execution_count": 14,
   "metadata": {},
   "outputs": [
    {
     "data": {
      "text/plain": [
       "00-03     7\n",
       "04-11    15\n",
       "12-16    10\n",
       "17-24     7\n",
       "25-40     6\n",
       "41+       5\n",
       "Name: age_group, dtype: int64"
      ]
     },
     "execution_count": 14,
     "metadata": {},
     "output_type": "execute_result"
    }
   ],
   "source": [
    "valid_df.age_group.value_counts().sort_index()"
   ]
  },
  {
   "cell_type": "code",
   "execution_count": 15,
   "metadata": {},
   "outputs": [
    {
     "data": {
      "text/plain": [
       "00-03    21\n",
       "04-11    41\n",
       "12-16    25\n",
       "17-24    26\n",
       "25-40    28\n",
       "41+      10\n",
       "Name: age_group, dtype: int64"
      ]
     },
     "execution_count": 15,
     "metadata": {},
     "output_type": "execute_result"
    }
   ],
   "source": [
    "test_df.age_group.value_counts().sort_index()"
   ]
  },
  {
   "cell_type": "markdown",
   "metadata": {},
   "source": [
    "## Statistics on a MIL bag level data"
   ]
  },
  {
   "cell_type": "code",
   "execution_count": 3,
   "metadata": {},
   "outputs": [],
   "source": [
    "# Read in data\n",
    "train_df = pd.read_csv(\"../fgnet_bag_wr_train.csv\", dtype=str, index_col=0)\n",
    "train_df = train_df.applymap(ast.literal_eval)\n",
    "valid_df = pd.read_csv(\"../fgnet_bag_wr_valid.csv\", dtype=str, index_col=0)\n",
    "valid_df = valid_df.applymap(ast.literal_eval)\n",
    "test_df = pd.read_csv(\"../fgnet_bag_wr_test.csv\", dtype=str, index_col=0)\n",
    "test_df = test_df.applymap(ast.literal_eval)\n"
   ]
  },
  {
   "cell_type": "code",
   "execution_count": 4,
   "metadata": {},
   "outputs": [
    {
     "data": {
      "text/plain": [
       "00-03    21\n",
       "04-11    36\n",
       "12-16    38\n",
       "17-24    41\n",
       "25-40    42\n",
       "41+      21\n",
       "Name: age_group_bag, dtype: int64"
      ]
     },
     "execution_count": 4,
     "metadata": {},
     "output_type": "execute_result"
    }
   ],
   "source": [
    "train_df.age_group_bag.value_counts().sort_index()"
   ]
  },
  {
   "cell_type": "code",
   "execution_count": 5,
   "metadata": {},
   "outputs": [
    {
     "data": {
      "text/plain": [
       "00-03    1\n",
       "04-11    1\n",
       "12-16    2\n",
       "17-24    2\n",
       "25-40    2\n",
       "41+      2\n",
       "Name: age_group_bag, dtype: int64"
      ]
     },
     "execution_count": 5,
     "metadata": {},
     "output_type": "execute_result"
    }
   ],
   "source": [
    "valid_df.age_group_bag.value_counts().sort_index()"
   ]
  },
  {
   "cell_type": "code",
   "execution_count": 6,
   "metadata": {},
   "outputs": [
    {
     "data": {
      "text/plain": [
       "00-03     4\n",
       "04-11     5\n",
       "12-16     6\n",
       "17-24     8\n",
       "25-40    10\n",
       "41+       4\n",
       "Name: age_group_bag, dtype: int64"
      ]
     },
     "execution_count": 6,
     "metadata": {},
     "output_type": "execute_result"
    }
   ],
   "source": [
    "test_df.age_group_bag.value_counts().sort_index()"
   ]
  }
 ],
 "metadata": {
  "kernelspec": {
   "display_name": "Python 3.8.5 ('ordinal-mil-nnets')",
   "language": "python",
   "name": "python3"
  },
  "language_info": {
   "codemirror_mode": {
    "name": "ipython",
    "version": 3
   },
   "file_extension": ".py",
   "mimetype": "text/x-python",
   "name": "python",
   "nbconvert_exporter": "python",
   "pygments_lexer": "ipython3",
   "version": "3.8.5"
  },
  "orig_nbformat": 4,
  "vscode": {
   "interpreter": {
    "hash": "daa318e5b0aa02135f3bab5d5ab47cd6d5d66bde5b6f94c01d55773016ac444a"
   }
  }
 },
 "nbformat": 4,
 "nbformat_minor": 2
}
