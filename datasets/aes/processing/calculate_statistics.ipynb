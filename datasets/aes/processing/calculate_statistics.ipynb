{
 "cells": [
  {
   "cell_type": "code",
   "execution_count": 1,
   "metadata": {},
   "outputs": [],
   "source": [
    "import ast\n",
    "import numpy as np\n",
    "import pandas as pd\n"
   ]
  },
  {
   "cell_type": "code",
   "execution_count": 2,
   "metadata": {},
   "outputs": [
    {
     "data": {
      "text/plain": [
       "'/Users/spkent/Documents/_Github/ordinal-mil-nnets/datasets/aes/processing'"
      ]
     },
     "execution_count": 2,
     "metadata": {},
     "output_type": "execute_result"
    }
   ],
   "source": [
    "import os\n",
    "os.getcwd()"
   ]
  },
  {
   "cell_type": "markdown",
   "metadata": {},
   "source": [
    "## Statistics for original data set"
   ]
  },
  {
   "cell_type": "code",
   "execution_count": 4,
   "metadata": {},
   "outputs": [],
   "source": [
    "# Read in data\n",
    "train_df = pd.read_csv(\"../splits/aes_train.csv\", dtype=str, index_col=0)\n",
    "valid_df = pd.read_csv(\"../splits/aes_valid.csv\", dtype=str, index_col=0)\n",
    "test_df = pd.read_csv(\"../splits/aes_test.csv\", dtype=str, index_col=0)\n"
   ]
  },
  {
   "cell_type": "code",
   "execution_count": 5,
   "metadata": {},
   "outputs": [
    {
     "data": {
      "text/plain": [
       "0      19\n",
       "1     449\n",
       "2    5973\n",
       "3    3553\n",
       "4     193\n",
       "Name: score, dtype: int64"
      ]
     },
     "execution_count": 5,
     "metadata": {},
     "output_type": "execute_result"
    }
   ],
   "source": [
    "train_df.score.value_counts().sort_index()\n"
   ]
  },
  {
   "cell_type": "code",
   "execution_count": 6,
   "metadata": {},
   "outputs": [
    {
     "data": {
      "text/plain": [
       "0      1\n",
       "1     35\n",
       "2    385\n",
       "3    249\n",
       "4      9\n",
       "Name: score, dtype: int64"
      ]
     },
     "execution_count": 6,
     "metadata": {},
     "output_type": "execute_result"
    }
   ],
   "source": [
    "valid_df.score.value_counts().sort_index()"
   ]
  },
  {
   "cell_type": "code",
   "execution_count": 7,
   "metadata": {},
   "outputs": [
    {
     "data": {
      "text/plain": [
       "0      11\n",
       "1     118\n",
       "2    1600\n",
       "3     947\n",
       "4      41\n",
       "Name: score, dtype: int64"
      ]
     },
     "execution_count": 7,
     "metadata": {},
     "output_type": "execute_result"
    }
   ],
   "source": [
    "test_df.score.value_counts().sort_index()"
   ]
  },
  {
   "cell_type": "markdown",
   "metadata": {},
   "source": [
    "## Statistics on a MIL bag level data"
   ]
  },
  {
   "cell_type": "code",
   "execution_count": 8,
   "metadata": {},
   "outputs": [],
   "source": [
    "# Read in data\n",
    "train_df = pd.read_csv(\"../splits_bag/aes_bag_wr=0.5_size=4_i=0_j=0_train.csv\", dtype=str, index_col=0)\n",
    "train_df = train_df.applymap(ast.literal_eval)\n",
    "valid_df = pd.read_csv(\"../splits_bag/aes_bag_wr=0.5_size=4_i=0_j=0_valid.csv\", dtype=str, index_col=0)\n",
    "valid_df = valid_df.applymap(ast.literal_eval)\n",
    "test_df = pd.read_csv(\"../splits_bag/aes_bag_wr=0.5_size=4_i=0_j=0_test.csv\", dtype=str, index_col=0)\n",
    "test_df = test_df.applymap(ast.literal_eval)\n"
   ]
  },
  {
   "cell_type": "code",
   "execution_count": 10,
   "metadata": {},
   "outputs": [
    {
     "data": {
      "text/plain": [
       "[0, 0, 0, 0]       4\n",
       "[1, 1, 0, 1]       3\n",
       "[1, 1, 1, 1]     105\n",
       "[2, 2, 1, 1]       1\n",
       "[2, 2, 1, 2]       2\n",
       "[2, 2, 2, 1]       4\n",
       "[2, 2, 2, 2]    1130\n",
       "[3, 3, 1, 1]       1\n",
       "[3, 3, 1, 2]       2\n",
       "[3, 3, 2, 1]       2\n",
       "[3, 3, 2, 2]     407\n",
       "[3, 3, 2, 3]     265\n",
       "[3, 3, 3, 1]       1\n",
       "[3, 3, 3, 2]     236\n",
       "[3, 3, 3, 3]     287\n",
       "[4, 4, 1, 2]       1\n",
       "[4, 4, 1, 3]       2\n",
       "[4, 4, 2, 1]       2\n",
       "[4, 4, 2, 2]      30\n",
       "[4, 4, 2, 3]      24\n",
       "[4, 4, 3, 2]      26\n",
       "[4, 4, 3, 3]      11\n",
       "Name: score, dtype: int64"
      ]
     },
     "execution_count": 10,
     "metadata": {},
     "output_type": "execute_result"
    }
   ],
   "source": [
    "train_df.score.value_counts().sort_index()"
   ]
  },
  {
   "cell_type": "code",
   "execution_count": 11,
   "metadata": {},
   "outputs": [
    {
     "data": {
      "text/plain": [
       "0       4\n",
       "1     108\n",
       "2    1137\n",
       "3    1201\n",
       "4      96\n",
       "Name: score_bag, dtype: int64"
      ]
     },
     "execution_count": 11,
     "metadata": {},
     "output_type": "execute_result"
    }
   ],
   "source": [
    "train_df.score_bag.value_counts().sort_index()"
   ]
  },
  {
   "cell_type": "code",
   "execution_count": 12,
   "metadata": {},
   "outputs": [
    {
     "data": {
      "text/plain": [
       "1     8\n",
       "2    75\n",
       "3    82\n",
       "4     4\n",
       "Name: score_bag, dtype: int64"
      ]
     },
     "execution_count": 12,
     "metadata": {},
     "output_type": "execute_result"
    }
   ],
   "source": [
    "valid_df.score_bag.value_counts().sort_index()"
   ]
  },
  {
   "cell_type": "code",
   "execution_count": 13,
   "metadata": {},
   "outputs": [
    {
     "data": {
      "text/plain": [
       "0      2\n",
       "1     29\n",
       "2    307\n",
       "3    320\n",
       "4     20\n",
       "Name: score_bag, dtype: int64"
      ]
     },
     "execution_count": 13,
     "metadata": {},
     "output_type": "execute_result"
    }
   ],
   "source": [
    "test_df.score_bag.value_counts().sort_index()"
   ]
  }
 ],
 "metadata": {
  "kernelspec": {
   "display_name": "Python 3.8.5 ('ordinal-mil-nnets')",
   "language": "python",
   "name": "python3"
  },
  "language_info": {
   "codemirror_mode": {
    "name": "ipython",
    "version": 3
   },
   "file_extension": ".py",
   "mimetype": "text/x-python",
   "name": "python",
   "nbconvert_exporter": "python",
   "pygments_lexer": "ipython3",
   "version": "3.8.5"
  },
  "orig_nbformat": 4,
  "vscode": {
   "interpreter": {
    "hash": "daa318e5b0aa02135f3bab5d5ab47cd6d5d66bde5b6f94c01d55773016ac444a"
   }
  }
 },
 "nbformat": 4,
 "nbformat_minor": 2
}
